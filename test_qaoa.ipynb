{
  "nbformat": 4,
  "nbformat_minor": 0,
  "metadata": {
    "colab": {
      "provenance": []
    },
    "kernelspec": {
      "name": "python3",
      "display_name": "Python 3"
    },
    "language_info": {
      "name": "python"
    }
  },
  "cells": [
    {
      "cell_type": "code",
      "source": [
        "!pip install qiskit\n",
        "!pip install qiskit-aer"
      ],
      "metadata": {
        "colab": {
          "base_uri": "https://localhost:8080/"
        },
        "id": "s7PE6GMVoQvb",
        "outputId": "e97e7600-8a28-49d2-ea4a-d05b60285d94"
      },
      "execution_count": null,
      "outputs": [
        {
          "output_type": "stream",
          "name": "stdout",
          "text": [
            "Requirement already satisfied: qiskit in /usr/local/lib/python3.10/dist-packages (0.45.1)\n",
            "Requirement already satisfied: qiskit-terra==0.45.1 in /usr/local/lib/python3.10/dist-packages (from qiskit) (0.45.1)\n",
            "Requirement already satisfied: rustworkx>=0.13.0 in /usr/local/lib/python3.10/dist-packages (from qiskit-terra==0.45.1->qiskit) (0.13.2)\n",
            "Requirement already satisfied: numpy<2,>=1.17 in /usr/local/lib/python3.10/dist-packages (from qiskit-terra==0.45.1->qiskit) (1.23.5)\n",
            "Requirement already satisfied: ply>=3.10 in /usr/local/lib/python3.10/dist-packages (from qiskit-terra==0.45.1->qiskit) (3.11)\n",
            "Requirement already satisfied: psutil>=5 in /usr/local/lib/python3.10/dist-packages (from qiskit-terra==0.45.1->qiskit) (5.9.5)\n",
            "Requirement already satisfied: scipy>=1.5 in /usr/local/lib/python3.10/dist-packages (from qiskit-terra==0.45.1->qiskit) (1.11.4)\n",
            "Requirement already satisfied: sympy>=1.3 in /usr/local/lib/python3.10/dist-packages (from qiskit-terra==0.45.1->qiskit) (1.12)\n",
            "Requirement already satisfied: dill>=0.3 in /usr/local/lib/python3.10/dist-packages (from qiskit-terra==0.45.1->qiskit) (0.3.7)\n",
            "Requirement already satisfied: python-dateutil>=2.8.0 in /usr/local/lib/python3.10/dist-packages (from qiskit-terra==0.45.1->qiskit) (2.8.2)\n",
            "Requirement already satisfied: stevedore>=3.0.0 in /usr/local/lib/python3.10/dist-packages (from qiskit-terra==0.45.1->qiskit) (5.1.0)\n",
            "Requirement already satisfied: symengine!=0.10.0,>=0.9 in /usr/local/lib/python3.10/dist-packages (from qiskit-terra==0.45.1->qiskit) (0.11.0)\n",
            "Requirement already satisfied: typing-extensions in /usr/local/lib/python3.10/dist-packages (from qiskit-terra==0.45.1->qiskit) (4.5.0)\n",
            "Requirement already satisfied: six>=1.5 in /usr/local/lib/python3.10/dist-packages (from python-dateutil>=2.8.0->qiskit-terra==0.45.1->qiskit) (1.16.0)\n",
            "Requirement already satisfied: pbr!=2.1.0,>=2.0.0 in /usr/local/lib/python3.10/dist-packages (from stevedore>=3.0.0->qiskit-terra==0.45.1->qiskit) (6.0.0)\n",
            "Requirement already satisfied: mpmath>=0.19 in /usr/local/lib/python3.10/dist-packages (from sympy>=1.3->qiskit-terra==0.45.1->qiskit) (1.3.0)\n",
            "Requirement already satisfied: qiskit-aer in /usr/local/lib/python3.10/dist-packages (0.13.1)\n",
            "Requirement already satisfied: qiskit>=0.44.0 in /usr/local/lib/python3.10/dist-packages (from qiskit-aer) (0.45.1)\n",
            "Requirement already satisfied: numpy>=1.16.3 in /usr/local/lib/python3.10/dist-packages (from qiskit-aer) (1.23.5)\n",
            "Requirement already satisfied: scipy>=1.0 in /usr/local/lib/python3.10/dist-packages (from qiskit-aer) (1.11.4)\n",
            "Requirement already satisfied: psutil>=5 in /usr/local/lib/python3.10/dist-packages (from qiskit-aer) (5.9.5)\n",
            "Requirement already satisfied: qiskit-terra==0.45.1 in /usr/local/lib/python3.10/dist-packages (from qiskit>=0.44.0->qiskit-aer) (0.45.1)\n",
            "Requirement already satisfied: rustworkx>=0.13.0 in /usr/local/lib/python3.10/dist-packages (from qiskit-terra==0.45.1->qiskit>=0.44.0->qiskit-aer) (0.13.2)\n",
            "Requirement already satisfied: ply>=3.10 in /usr/local/lib/python3.10/dist-packages (from qiskit-terra==0.45.1->qiskit>=0.44.0->qiskit-aer) (3.11)\n",
            "Requirement already satisfied: sympy>=1.3 in /usr/local/lib/python3.10/dist-packages (from qiskit-terra==0.45.1->qiskit>=0.44.0->qiskit-aer) (1.12)\n",
            "Requirement already satisfied: dill>=0.3 in /usr/local/lib/python3.10/dist-packages (from qiskit-terra==0.45.1->qiskit>=0.44.0->qiskit-aer) (0.3.7)\n",
            "Requirement already satisfied: python-dateutil>=2.8.0 in /usr/local/lib/python3.10/dist-packages (from qiskit-terra==0.45.1->qiskit>=0.44.0->qiskit-aer) (2.8.2)\n",
            "Requirement already satisfied: stevedore>=3.0.0 in /usr/local/lib/python3.10/dist-packages (from qiskit-terra==0.45.1->qiskit>=0.44.0->qiskit-aer) (5.1.0)\n",
            "Requirement already satisfied: symengine!=0.10.0,>=0.9 in /usr/local/lib/python3.10/dist-packages (from qiskit-terra==0.45.1->qiskit>=0.44.0->qiskit-aer) (0.11.0)\n",
            "Requirement already satisfied: typing-extensions in /usr/local/lib/python3.10/dist-packages (from qiskit-terra==0.45.1->qiskit>=0.44.0->qiskit-aer) (4.5.0)\n",
            "Requirement already satisfied: six>=1.5 in /usr/local/lib/python3.10/dist-packages (from python-dateutil>=2.8.0->qiskit-terra==0.45.1->qiskit>=0.44.0->qiskit-aer) (1.16.0)\n",
            "Requirement already satisfied: pbr!=2.1.0,>=2.0.0 in /usr/local/lib/python3.10/dist-packages (from stevedore>=3.0.0->qiskit-terra==0.45.1->qiskit>=0.44.0->qiskit-aer) (6.0.0)\n",
            "Requirement already satisfied: mpmath>=0.19 in /usr/local/lib/python3.10/dist-packages (from sympy>=1.3->qiskit-terra==0.45.1->qiskit>=0.44.0->qiskit-aer) (1.3.0)\n"
          ]
        }
      ]
    },
    {
      "cell_type": "code",
      "source": [
        "from qiskit import QuantumCircuit, Aer, execute\n",
        "from qiskit.visualization import plot_histogram\n",
        "from qiskit.circuit import Parameter\n",
        "from scipy.optimize import minimize\n",
        "from math import pi\n",
        "import numpy as np\n",
        "from qiskit.circuit.library import ZGate\n"
      ],
      "metadata": {
        "id": "aE7lhAczpPCA"
      },
      "execution_count": null,
      "outputs": []
    },
    {
      "cell_type": "code",
      "source": [
        "num_facilities = 2\n",
        "num_cities = 4\n",
        "num_qubits = num_facilities + num_cities*num_facilities\n",
        "num_ancilla = 1\n"
      ],
      "metadata": {
        "id": "w0LHUo-8pdj6"
      },
      "execution_count": null,
      "outputs": []
    },
    {
      "cell_type": "code",
      "source": [
        "open_costs = [1, 1]\n",
        "connect_costs = [[1, 3, 3, 3],\n",
        "          [1, 1, 1, 1]]"
      ],
      "metadata": {
        "id": "8Bh9-QQDcwru"
      },
      "execution_count": null,
      "outputs": []
    },
    {
      "cell_type": "code",
      "source": [
        "# 创建一个量子电路\n",
        "qc = QuantumCircuit(num_qubits+num_ancilla,num_qubits)\n"
      ],
      "metadata": {
        "id": "tNQ3tfORpfET"
      },
      "execution_count": null,
      "outputs": []
    },
    {
      "cell_type": "code",
      "source": [
        "# 应用哈达玛门到每个量子比特，以创建超级位置态\n",
        "for qubit in range(num_qubits):\n",
        "    qc.h(qubit)"
      ],
      "metadata": {
        "id": "CO5NYqD_wu8F"
      },
      "execution_count": null,
      "outputs": []
    },
    {
      "cell_type": "code",
      "source": [
        "gamma = Parameter('γ')\n",
        "beta = Parameter('β')"
      ],
      "metadata": {
        "id": "ijXciTIexxBs"
      },
      "execution_count": null,
      "outputs": []
    },
    {
      "cell_type": "code",
      "source": [
        "for i in range(num_facilities):\n",
        "    qc.rz(open_costs[i] * gamma, i)\n",
        "\n",
        "for i in range(num_facilities):\n",
        "    for j in range(num_cities):\n",
        "        qc.rzz(connect_costs[i][j] * gamma, i, num_facilities + i * num_cities + j)"
      ],
      "metadata": {
        "id": "XG9KpaD1dWbM"
      },
      "execution_count": null,
      "outputs": []
    },
    {
      "cell_type": "code",
      "source": [
        "penalty = 10\n",
        "for i in range(num_facilities):\n",
        "    for j in range(num_cities):\n",
        "        qc.cz(i, num_facilities + i * num_cities + j)\n",
        "        qc.rz(penalty * gamma, num_facilities + i * num_cities + j)\n",
        "        qc.cz(i, num_facilities + i * num_cities + j)"
      ],
      "metadata": {
        "id": "LVrsF5refyq6"
      },
      "execution_count": null,
      "outputs": []
    },
    {
      "cell_type": "code",
      "source": [
        "z_gate = ZGate().control(num_facilities)\n",
        "unconnected_penalty = 10\n",
        "ancilla_qubit = num_qubits\n",
        "for j in range(num_cities):\n",
        "    controls = [num_facilities + i * num_cities + j for i in range(num_facilities)]\n",
        "    qc.append(z_gate, controls + [ancilla_qubit])\n",
        "    qc.rz(unconnected_penalty * gamma, ancilla_qubit)\n",
        "    qc.append(z_gate, controls + [ancilla_qubit])"
      ],
      "metadata": {
        "id": "Ot59jpr9wQeD"
      },
      "execution_count": null,
      "outputs": []
    },
    {
      "cell_type": "code",
      "source": [
        "# 示例：混合哈密顿量 H_B (RX门)\n",
        "for qubit in range(num_qubits):\n",
        "    qc.rx(2*beta, qubit)"
      ],
      "metadata": {
        "id": "IW7Ws_zhx4LL"
      },
      "execution_count": null,
      "outputs": []
    },
    {
      "cell_type": "code",
      "source": [
        "for qubit in range(num_qubits):\n",
        "  qc.measure(qubit,qubit)"
      ],
      "metadata": {
        "id": "yI0HNBsCxL6T"
      },
      "execution_count": null,
      "outputs": []
    },
    {
      "cell_type": "code",
      "source": [
        "qc.draw()"
      ],
      "metadata": {
        "colab": {
          "base_uri": "https://localhost:8080/",
          "height": 1000
        },
        "id": "_1MQhgFTgIjE",
        "outputId": "3a51b5a5-7ada-4a6c-a3c3-e1d1a250fa20"
      },
      "execution_count": null,
      "outputs": [
        {
          "output_type": "execute_result",
          "data": {
            "text/plain": [
              "      ┌───┐  ┌───────┐                                                      »\n",
              " q_0: ┤ H ├──┤ Rz(γ) ├───■───────────────■─────────────────■────────────────»\n",
              "      ├───┤┌─┴───────┴─┐ │               │                 │                »\n",
              " q_1: ┤ H ├┤ Rz(1.1*γ) ├─┼───────■───────┼─────────■───────┼─────────■──────»\n",
              "      ├───┤└───────────┘ │ZZ(γ)  │       │         │       │         │      »\n",
              " q_2: ┤ H ├──────────────■───────┼───────┼─────────┼───────┼─────────┼──────»\n",
              "      ├───┤                      │       │ZZ(3*γ)  │       │         │      »\n",
              " q_3: ┤ H ├──────────────────────┼───────■─────────┼───────┼─────────┼──────»\n",
              "      ├───┤                      │                 │       │ZZ(3*γ)  │      »\n",
              " q_4: ┤ H ├──────────────────────┼─────────────────┼───────■─────────┼──────»\n",
              "      ├───┤                      │                 │                 │      »\n",
              " q_5: ┤ H ├──────────────────────┼─────────────────┼─────────────────┼──────»\n",
              "      ├───┤                      │ZZ(γ)            │                 │      »\n",
              " q_6: ┤ H ├──────────────────────■─────────────────┼─────────────────┼──────»\n",
              "      ├───┤                                        │ZZ(γ)            │      »\n",
              " q_7: ┤ H ├────────────────────────────────────────■─────────────────┼──────»\n",
              "      ├───┤                                                          │ZZ(γ) »\n",
              " q_8: ┤ H ├──────────────────────────────────────────────────────────■──────»\n",
              "      ├───┤                                                                 »\n",
              " q_9: ┤ H ├─────────────────────────────────────────────────────────────────»\n",
              "      └───┘                                                                 »\n",
              "q_10: ──────────────────────────────────────────────────────────────────────»\n",
              "                                                                            »\n",
              "c: 10/══════════════════════════════════════════════════════════════════════»\n",
              "                                                                            »\n",
              "«                                                                              »\n",
              "« q_0: ─■─────────────────■─────────────────■─────■────────────────────■───────»\n",
              "«       │                 │                 │     │                    │       »\n",
              "« q_1: ─┼─────────■───────┼──■──────────────┼──■──┼──■─────────────────┼──■────»\n",
              "«       │         │       │  │ ┌──────────┐ │  │  │  │                 │  │    »\n",
              "« q_2: ─┼─────────┼───────■──┼─┤ Rz(10*γ) ├─■──┼──┼──┼──■──────────────┼──┼──■─»\n",
              "«       │         │          │ └──────────┘    │  │  │  │ ┌──────────┐ │  │  │ »\n",
              "« q_3: ─┼─────────┼──────────┼─────────────────┼──■──┼──┼─┤ Rz(10*γ) ├─■──┼──┼─»\n",
              "«       │         │          │                 │     │  │ └──────────┘    │  │ »\n",
              "« q_4: ─┼─────────┼──────────┼─────────────────┼─────┼──┼─────────────────┼──┼─»\n",
              "«       │ZZ(3*γ)  │          │                 │     │  │                 │  │ »\n",
              "« q_5: ─■─────────┼──────────┼─────────────────┼─────┼──┼─────────────────┼──┼─»\n",
              "«                 │          │ ┌──────────┐    │     │  │                 │  │ »\n",
              "« q_6: ───────────┼──────────■─┤ Rz(10*γ) ├────■─────┼──■─────────────────┼──■─»\n",
              "«                 │            └──────────┘          │  │ ┌──────────┐    │  │ »\n",
              "« q_7: ───────────┼──────────────────────────────────■──┼─┤ Rz(10*γ) ├────■──┼─»\n",
              "«                 │                                     │ └──────────┘       │ »\n",
              "« q_8: ───────────┼─────────────────────────────────────┼────────────────────┼─»\n",
              "«                 │ZZ(γ)                                │                    │ »\n",
              "« q_9: ───────────■─────────────────────────────────────┼────────────────────┼─»\n",
              "«                                                       │ ┌──────────┐       │ »\n",
              "«q_10: ─────────────────────────────────────────────────■─┤ Rz(10*γ) ├───────■─»\n",
              "«                                                         └──────────┘         »\n",
              "«c: 10/════════════════════════════════════════════════════════════════════════»\n",
              "«                                                                              »\n",
              "«                                                                     »\n",
              "« q_0: ─────■───────────────────────────────────■────────────■────────»\n",
              "«           │                                   │            │        »\n",
              "« q_1: ─────┼──────■────────────────────────────┼──■─────────┼──────■─»\n",
              "«           │      │ ┌─────────┐            ┌─┐ │  │         │      │ »\n",
              "« q_2: ─────┼──────┼─┤ Rx(2*β) ├────────────┤M├─┼──┼─────────┼──────┼─»\n",
              "«           │      │ └─────────┘            └╥┘ │  │         │      │ »\n",
              "« q_3: ─────┼──────┼──────■──────────────────╫──┼──┼──■──────┼──────┼─»\n",
              "«           │      │      │     ┌──────────┐ ║  │  │  │      │      │ »\n",
              "« q_4: ─────■──────┼──────┼─────┤ Rz(10*γ) ├─╫──■──┼──┼──────┼──────┼─»\n",
              "«                  │      │     └──────────┘ ║     │  │      │      │ »\n",
              "« q_5: ────────────┼──────┼──────────────────╫─────┼──┼──────■──────┼─»\n",
              "«      ┌─────────┐ │      │                  ║ ┌─┐ │  │             │ »\n",
              "« q_6: ┤ Rx(2*β) ├─┼──────┼──────────────────╫─┤M├─┼──┼─────────────┼─»\n",
              "«      └─────────┘ │      │                  ║ └╥┘ │  │ ┌─────────┐ │ »\n",
              "« q_7: ────────────┼──────■──────────────────╫──╫──┼──■─┤ Rx(2*β) ├─┼─»\n",
              "«                  │      │     ┌──────────┐ ║  ║  │  │ └─────────┘ │ »\n",
              "« q_8: ────────────■──────┼─────┤ Rz(10*γ) ├─╫──╫──■──┼─────────────┼─»\n",
              "«                         │     └──────────┘ ║  ║     │             │ »\n",
              "« q_9: ───────────────────┼──────────────────╫──╫─────┼─────────────■─»\n",
              "«                         │     ┌──────────┐ ║  ║     │               »\n",
              "«q_10: ───────────────────■─────┤ Rz(10*γ) ├─╫──╫─────■───────────────»\n",
              "«                               └──────────┘ ║  ║                     »\n",
              "«c: 10/══════════════════════════════════════╩══╩═════════════════════»\n",
              "«                                            2  6                     »\n",
              "«                                   ┌─────────┐                      »\n",
              "« q_0: ───────────────────────────■─┤ Rx(2*β) ├──────────────────────»\n",
              "«                                 │ └─────────┘┌─────────┐           »\n",
              "« q_1: ───────────────────────────┼──────■─────┤ Rx(2*β) ├───────────»\n",
              "«                                 │      │     └─────────┘           »\n",
              "« q_2: ───────────────────────────┼──────┼───────────────────────────»\n",
              "«      ┌─────────┐            ┌─┐ │      │                           »\n",
              "« q_3: ┤ Rx(2*β) ├────────────┤M├─┼──────┼───────────────────────────»\n",
              "«      └─────────┘            └╥┘ │      │                ┌─────────┐»\n",
              "« q_4: ─────■──────────────────╫──┼──────┼──────────■─────┤ Rx(2*β) ├»\n",
              "«           │     ┌──────────┐ ║  │      │          │     └─────────┘»\n",
              "« q_5: ─────┼─────┤ Rz(10*γ) ├─╫──■──────┼──────────┼──────────■─────»\n",
              "«           │     └──────────┘ ║         │          │          │     »\n",
              "« q_6: ─────┼──────────────────╫─────────┼──────────┼──────────┼─────»\n",
              "«           │                  ║ ┌─┐     │          │          │     »\n",
              "« q_7: ─────┼──────────────────╫─┤M├─────┼──────────┼──────────┼─────»\n",
              "«           │                  ║ └╥┘     │          │          │     »\n",
              "« q_8: ─────■──────────────────╫──╫──────┼──────────■──────────┼─────»\n",
              "«           │     ┌──────────┐ ║  ║      │          │          │     »\n",
              "« q_9: ─────┼─────┤ Rz(10*γ) ├─╫──╫──────■──────────┼──────────■─────»\n",
              "«           │     ├──────────┤ ║  ║                 │          │     »\n",
              "«q_10: ─────■─────┤ Rz(10*γ) ├─╫──╫─────────────────■──────────■─────»\n",
              "«                 └──────────┘ ║  ║                                  »\n",
              "«c: 10/════════════════════════╩══╩══════════════════════════════════»\n",
              "«                              3  7                                  »\n",
              "«                  ┌─┐                             \n",
              "« q_0: ────────────┤M├─────────────────────────────\n",
              "«                  └╥┘┌─┐                          \n",
              "« q_1: ─────────────╫─┤M├──────────────────────────\n",
              "«                   ║ └╥┘                          \n",
              "« q_2: ─────────────╫──╫───────────────────────────\n",
              "«                   ║  ║                           \n",
              "« q_3: ─────────────╫──╫───────────────────────────\n",
              "«                   ║  ║ ┌─┐                       \n",
              "« q_4: ─────────────╫──╫─┤M├───────────────────────\n",
              "«                   ║  ║ └╥┘      ┌─────────┐┌─┐   \n",
              "« q_5: ─────────────╫──╫──╫─────■─┤ Rx(2*β) ├┤M├───\n",
              "«                   ║  ║  ║     │ └─────────┘└╥┘   \n",
              "« q_6: ─────────────╫──╫──╫─────┼─────────────╫────\n",
              "«                   ║  ║  ║     │             ║    \n",
              "« q_7: ─────────────╫──╫──╫─────┼─────────────╫────\n",
              "«      ┌─────────┐  ║  ║  ║ ┌─┐ │             ║    \n",
              "« q_8: ┤ Rx(2*β) ├──╫──╫──╫─┤M├─┼─────────────╫────\n",
              "«      └─────────┘  ║  ║  ║ └╥┘ │ ┌─────────┐ ║ ┌─┐\n",
              "« q_9: ─────────────╫──╫──╫──╫──■─┤ Rx(2*β) ├─╫─┤M├\n",
              "«      ┌──────────┐ ║  ║  ║  ║  │ └─────────┘ ║ └╥┘\n",
              "«q_10: ┤ Rz(10*γ) ├─╫──╫──╫──╫──■─────────────╫──╫─\n",
              "«      └──────────┘ ║  ║  ║  ║                ║  ║ \n",
              "«c: 10/═════════════╩══╩══╩══╩════════════════╩══╩═\n",
              "«                   0  1  4  8                5  9 "
            ],
            "text/html": [
              "<pre style=\"word-wrap: normal;white-space: pre;background: #fff0;line-height: 1.1;font-family: &quot;Courier New&quot;,Courier,monospace\">      ┌───┐  ┌───────┐                                                      »\n",
              " q_0: ┤ H ├──┤ Rz(γ) ├───■───────────────■─────────────────■────────────────»\n",
              "      ├───┤┌─┴───────┴─┐ │               │                 │                »\n",
              " q_1: ┤ H ├┤ Rz(1.1*γ) ├─┼───────■───────┼─────────■───────┼─────────■──────»\n",
              "      ├───┤└───────────┘ │ZZ(γ)  │       │         │       │         │      »\n",
              " q_2: ┤ H ├──────────────■───────┼───────┼─────────┼───────┼─────────┼──────»\n",
              "      ├───┤                      │       │ZZ(3*γ)  │       │         │      »\n",
              " q_3: ┤ H ├──────────────────────┼───────■─────────┼───────┼─────────┼──────»\n",
              "      ├───┤                      │                 │       │ZZ(3*γ)  │      »\n",
              " q_4: ┤ H ├──────────────────────┼─────────────────┼───────■─────────┼──────»\n",
              "      ├───┤                      │                 │                 │      »\n",
              " q_5: ┤ H ├──────────────────────┼─────────────────┼─────────────────┼──────»\n",
              "      ├───┤                      │ZZ(γ)            │                 │      »\n",
              " q_6: ┤ H ├──────────────────────■─────────────────┼─────────────────┼──────»\n",
              "      ├───┤                                        │ZZ(γ)            │      »\n",
              " q_7: ┤ H ├────────────────────────────────────────■─────────────────┼──────»\n",
              "      ├───┤                                                          │ZZ(γ) »\n",
              " q_8: ┤ H ├──────────────────────────────────────────────────────────■──────»\n",
              "      ├───┤                                                                 »\n",
              " q_9: ┤ H ├─────────────────────────────────────────────────────────────────»\n",
              "      └───┘                                                                 »\n",
              "q_10: ──────────────────────────────────────────────────────────────────────»\n",
              "                                                                            »\n",
              "c: 10/══════════════════════════════════════════════════════════════════════»\n",
              "                                                                            »\n",
              "«                                                                              »\n",
              "« q_0: ─■─────────────────■─────────────────■─────■────────────────────■───────»\n",
              "«       │                 │                 │     │                    │       »\n",
              "« q_1: ─┼─────────■───────┼──■──────────────┼──■──┼──■─────────────────┼──■────»\n",
              "«       │         │       │  │ ┌──────────┐ │  │  │  │                 │  │    »\n",
              "« q_2: ─┼─────────┼───────■──┼─┤ Rz(10*γ) ├─■──┼──┼──┼──■──────────────┼──┼──■─»\n",
              "«       │         │          │ └──────────┘    │  │  │  │ ┌──────────┐ │  │  │ »\n",
              "« q_3: ─┼─────────┼──────────┼─────────────────┼──■──┼──┼─┤ Rz(10*γ) ├─■──┼──┼─»\n",
              "«       │         │          │                 │     │  │ └──────────┘    │  │ »\n",
              "« q_4: ─┼─────────┼──────────┼─────────────────┼─────┼──┼─────────────────┼──┼─»\n",
              "«       │ZZ(3*γ)  │          │                 │     │  │                 │  │ »\n",
              "« q_5: ─■─────────┼──────────┼─────────────────┼─────┼──┼─────────────────┼──┼─»\n",
              "«                 │          │ ┌──────────┐    │     │  │                 │  │ »\n",
              "« q_6: ───────────┼──────────■─┤ Rz(10*γ) ├────■─────┼──■─────────────────┼──■─»\n",
              "«                 │            └──────────┘          │  │ ┌──────────┐    │  │ »\n",
              "« q_7: ───────────┼──────────────────────────────────■──┼─┤ Rz(10*γ) ├────■──┼─»\n",
              "«                 │                                     │ └──────────┘       │ »\n",
              "« q_8: ───────────┼─────────────────────────────────────┼────────────────────┼─»\n",
              "«                 │ZZ(γ)                                │                    │ »\n",
              "« q_9: ───────────■─────────────────────────────────────┼────────────────────┼─»\n",
              "«                                                       │ ┌──────────┐       │ »\n",
              "«q_10: ─────────────────────────────────────────────────■─┤ Rz(10*γ) ├───────■─»\n",
              "«                                                         └──────────┘         »\n",
              "«c: 10/════════════════════════════════════════════════════════════════════════»\n",
              "«                                                                              »\n",
              "«                                                                     »\n",
              "« q_0: ─────■───────────────────────────────────■────────────■────────»\n",
              "«           │                                   │            │        »\n",
              "« q_1: ─────┼──────■────────────────────────────┼──■─────────┼──────■─»\n",
              "«           │      │ ┌─────────┐            ┌─┐ │  │         │      │ »\n",
              "« q_2: ─────┼──────┼─┤ Rx(2*β) ├────────────┤M├─┼──┼─────────┼──────┼─»\n",
              "«           │      │ └─────────┘            └╥┘ │  │         │      │ »\n",
              "« q_3: ─────┼──────┼──────■──────────────────╫──┼──┼──■──────┼──────┼─»\n",
              "«           │      │      │     ┌──────────┐ ║  │  │  │      │      │ »\n",
              "« q_4: ─────■──────┼──────┼─────┤ Rz(10*γ) ├─╫──■──┼──┼──────┼──────┼─»\n",
              "«                  │      │     └──────────┘ ║     │  │      │      │ »\n",
              "« q_5: ────────────┼──────┼──────────────────╫─────┼──┼──────■──────┼─»\n",
              "«      ┌─────────┐ │      │                  ║ ┌─┐ │  │             │ »\n",
              "« q_6: ┤ Rx(2*β) ├─┼──────┼──────────────────╫─┤M├─┼──┼─────────────┼─»\n",
              "«      └─────────┘ │      │                  ║ └╥┘ │  │ ┌─────────┐ │ »\n",
              "« q_7: ────────────┼──────■──────────────────╫──╫──┼──■─┤ Rx(2*β) ├─┼─»\n",
              "«                  │      │     ┌──────────┐ ║  ║  │  │ └─────────┘ │ »\n",
              "« q_8: ────────────■──────┼─────┤ Rz(10*γ) ├─╫──╫──■──┼─────────────┼─»\n",
              "«                         │     └──────────┘ ║  ║     │             │ »\n",
              "« q_9: ───────────────────┼──────────────────╫──╫─────┼─────────────■─»\n",
              "«                         │     ┌──────────┐ ║  ║     │               »\n",
              "«q_10: ───────────────────■─────┤ Rz(10*γ) ├─╫──╫─────■───────────────»\n",
              "«                               └──────────┘ ║  ║                     »\n",
              "«c: 10/══════════════════════════════════════╩══╩═════════════════════»\n",
              "«                                            2  6                     »\n",
              "«                                   ┌─────────┐                      »\n",
              "« q_0: ───────────────────────────■─┤ Rx(2*β) ├──────────────────────»\n",
              "«                                 │ └─────────┘┌─────────┐           »\n",
              "« q_1: ───────────────────────────┼──────■─────┤ Rx(2*β) ├───────────»\n",
              "«                                 │      │     └─────────┘           »\n",
              "« q_2: ───────────────────────────┼──────┼───────────────────────────»\n",
              "«      ┌─────────┐            ┌─┐ │      │                           »\n",
              "« q_3: ┤ Rx(2*β) ├────────────┤M├─┼──────┼───────────────────────────»\n",
              "«      └─────────┘            └╥┘ │      │                ┌─────────┐»\n",
              "« q_4: ─────■──────────────────╫──┼──────┼──────────■─────┤ Rx(2*β) ├»\n",
              "«           │     ┌──────────┐ ║  │      │          │     └─────────┘»\n",
              "« q_5: ─────┼─────┤ Rz(10*γ) ├─╫──■──────┼──────────┼──────────■─────»\n",
              "«           │     └──────────┘ ║         │          │          │     »\n",
              "« q_6: ─────┼──────────────────╫─────────┼──────────┼──────────┼─────»\n",
              "«           │                  ║ ┌─┐     │          │          │     »\n",
              "« q_7: ─────┼──────────────────╫─┤M├─────┼──────────┼──────────┼─────»\n",
              "«           │                  ║ └╥┘     │          │          │     »\n",
              "« q_8: ─────■──────────────────╫──╫──────┼──────────■──────────┼─────»\n",
              "«           │     ┌──────────┐ ║  ║      │          │          │     »\n",
              "« q_9: ─────┼─────┤ Rz(10*γ) ├─╫──╫──────■──────────┼──────────■─────»\n",
              "«           │     ├──────────┤ ║  ║                 │          │     »\n",
              "«q_10: ─────■─────┤ Rz(10*γ) ├─╫──╫─────────────────■──────────■─────»\n",
              "«                 └──────────┘ ║  ║                                  »\n",
              "«c: 10/════════════════════════╩══╩══════════════════════════════════»\n",
              "«                              3  7                                  »\n",
              "«                  ┌─┐                             \n",
              "« q_0: ────────────┤M├─────────────────────────────\n",
              "«                  └╥┘┌─┐                          \n",
              "« q_1: ─────────────╫─┤M├──────────────────────────\n",
              "«                   ║ └╥┘                          \n",
              "« q_2: ─────────────╫──╫───────────────────────────\n",
              "«                   ║  ║                           \n",
              "« q_3: ─────────────╫──╫───────────────────────────\n",
              "«                   ║  ║ ┌─┐                       \n",
              "« q_4: ─────────────╫──╫─┤M├───────────────────────\n",
              "«                   ║  ║ └╥┘      ┌─────────┐┌─┐   \n",
              "« q_5: ─────────────╫──╫──╫─────■─┤ Rx(2*β) ├┤M├───\n",
              "«                   ║  ║  ║     │ └─────────┘└╥┘   \n",
              "« q_6: ─────────────╫──╫──╫─────┼─────────────╫────\n",
              "«                   ║  ║  ║     │             ║    \n",
              "« q_7: ─────────────╫──╫──╫─────┼─────────────╫────\n",
              "«      ┌─────────┐  ║  ║  ║ ┌─┐ │             ║    \n",
              "« q_8: ┤ Rx(2*β) ├──╫──╫──╫─┤M├─┼─────────────╫────\n",
              "«      └─────────┘  ║  ║  ║ └╥┘ │ ┌─────────┐ ║ ┌─┐\n",
              "« q_9: ─────────────╫──╫──╫──╫──■─┤ Rx(2*β) ├─╫─┤M├\n",
              "«      ┌──────────┐ ║  ║  ║  ║  │ └─────────┘ ║ └╥┘\n",
              "«q_10: ┤ Rz(10*γ) ├─╫──╫──╫──╫──■─────────────╫──╫─\n",
              "«      └──────────┘ ║  ║  ║  ║                ║  ║ \n",
              "«c: 10/═════════════╩══╩══╩══╩════════════════╩══╩═\n",
              "«                   0  1  4  8                5  9 </pre>"
            ]
          },
          "metadata": {},
          "execution_count": 69
        }
      ]
    },
    {
      "cell_type": "code",
      "source": [
        "simulator = Aer.get_backend('qasm_simulator')"
      ],
      "metadata": {
        "id": "lR6ju5CvwzR2"
      },
      "execution_count": null,
      "outputs": []
    },
    {
      "cell_type": "code",
      "source": [
        "def calculate_cost(counts):\n",
        "    total_cost = 0\n",
        "    total_counts = sum(counts.values())\n",
        "\n",
        "    # 计算成本\n",
        "    for bitstring, count in counts.items():\n",
        "        # 解析量子比特的状态\n",
        "        facility_status = bitstring[:num_facilities]  # 前两个比特表示设施状态\n",
        "        city_connections = bitstring[num_facilities:]  # 接下来的比特表示城市连接\n",
        "        # 计算开放成本\n",
        "        for i in range(num_facilities):\n",
        "            if facility_status[i] == '1':  # 如果设施开放\n",
        "                total_cost += open_costs[i] * count\n",
        "\n",
        "        # 计算连接成本\n",
        "        for i in range(num_facilities):\n",
        "            for j in range(num_cities):\n",
        "                if facility_status[i] == '1' and city_connections[i * num_cities + j] == '1':  # 如果城市连接到设施\n",
        "                    total_cost += connect_costs[i][j] * count\n",
        "                if facility_status[i] == '0' and city_connections[i * num_cities + j] == '1':  # 如果设施关闭但城市连接到设施\n",
        "                    total_cost += penalty * count\n",
        "        res = 0\n",
        "        for j in range(num_cities):\n",
        "            for i in range(num_facilities):\n",
        "                res += int(city_connections[i * num_cities + j])\n",
        "            if res < 1:\n",
        "                total_cost += unconnected_penalty * count\n",
        "            res = 0\n",
        "\n",
        "    # 归一化成本\n",
        "    normalized_cost = total_cost / total_counts\n",
        "    return normalized_cost"
      ],
      "metadata": {
        "id": "FWvAefDqQubr"
      },
      "execution_count": null,
      "outputs": []
    },
    {
      "cell_type": "code",
      "source": [
        "def calculate_gradient(params):\n",
        "    param_values = {gamma: [params[0]], beta: [params[1]]}\n",
        "\n",
        "    # 在当前参数下运行量子电路并计算成本\n",
        "    job = execute(qc, simulator, shots=10000, parameter_binds=[param_values])\n",
        "    result = job.result()\n",
        "    counts = result.get_counts(qc)\n",
        "    cost = calculate_cost(counts)  # 根据 counts 计算成本或分数\n",
        "\n",
        "    # 计算 gamma 的梯度\n",
        "    epsilon = 0.01  # 增加的微小偏移量\n",
        "    param_values_gamma_plus = {gamma: [params[0] + epsilon], beta: [params[1]]}\n",
        "    job_gamma_plus = execute(qc, simulator, shots=10000, parameter_binds=[param_values_gamma_plus])\n",
        "    result_gamma_plus = job_gamma_plus.result()\n",
        "    counts_gamma_plus = result_gamma_plus.get_counts(qc)\n",
        "    dgamma = (calculate_cost(counts_gamma_plus) - cost) / epsilon\n",
        "\n",
        "    # 计算 beta 的梯度\n",
        "    epsilon = 0.01  # 增加的微小偏移量\n",
        "    param_values_beta_plus = {gamma: [params[0]], beta: [params[1] + epsilon]}\n",
        "    job_beta_plus = execute(qc, simulator, shots=10000, parameter_binds=[param_values_beta_plus])\n",
        "    result_beta_plus = job_beta_plus.result()\n",
        "    counts_beta_plus = result_beta_plus.get_counts(qc)\n",
        "    dbeta = (calculate_cost(counts_beta_plus) - cost) / epsilon\n",
        "\n",
        "    return np.array([dgamma, dbeta])"
      ],
      "metadata": {
        "id": "A8fv_jyMdJmE"
      },
      "execution_count": null,
      "outputs": []
    },
    {
      "cell_type": "code",
      "source": [
        "def objective_function(params):\n",
        "    # 更新电路参数\n",
        "    param_values = {gamma: [params[0]], beta: [params[1]]}\n",
        "    job = execute(qc, simulator, shots=1000, parameter_binds=[param_values])\n",
        "    result = job.result()\n",
        "    counts = result.get_counts(qc)\n",
        "\n",
        "    # 计算目标函数值\n",
        "    # 这里应该根据您的问题特定计算目标函数\n",
        "    cost = calculate_cost(counts)  # 根据counts计算成本或分数\n",
        "    return cost"
      ],
      "metadata": {
        "id": "A_KN6VghQPqX"
      },
      "execution_count": null,
      "outputs": []
    },
    {
      "cell_type": "code",
      "source": [
        "params = np.random.rand(2)\n",
        "print(\"Initial Parameters:\", params)\n",
        "learning_rate = 0.001  # 学习率\n",
        "max_iterations = 200  # 最大迭代次数\n",
        "epsilon = 0.001  # 用于数值梯度计算的微小偏移量"
      ],
      "metadata": {
        "id": "Hb5llqiIyd9X",
        "colab": {
          "base_uri": "https://localhost:8080/"
        },
        "outputId": "f19f8cc1-9959-4446-aa22-8d17419d472b"
      },
      "execution_count": null,
      "outputs": [
        {
          "output_type": "stream",
          "name": "stdout",
          "text": [
            "Initial Parameters: [0.90894025 0.51966294]\n"
          ]
        }
      ]
    },
    {
      "cell_type": "code",
      "source": [
        "for iteration in range(max_iterations):\n",
        "    gradient = calculate_gradient(params)\n",
        "    params -= learning_rate * gradient\n",
        "\n",
        "    # 计算当前参数下的成本\n",
        "    param_values = {gamma: [params[0]], beta: [params[1]]}\n",
        "    job = execute(qc, simulator, shots=1000, parameter_binds=[param_values])\n",
        "    result = job.result()\n",
        "    counts = result.get_counts(qc)\n",
        "    cost = calculate_cost(counts)  # 根据 counts 计算成本或分数\n",
        "\n",
        "    print(f\"Iteration {iteration + 1}: Cost = {cost}\")\n",
        "\n",
        "# 输出最优参数和目标函数值\n",
        "print(\"Optimal Parameters:\", params)\n",
        "print(\"Optimal Cost:\", cost)"
      ],
      "metadata": {
        "colab": {
          "base_uri": "https://localhost:8080/"
        },
        "id": "zw0Lp8mTeV8O",
        "outputId": "72feb9d8-7bc1-4ceb-b300-5218b4f84a08"
      },
      "execution_count": null,
      "outputs": [
        {
          "output_type": "stream",
          "name": "stdout",
          "text": [
            "Iteration 1: Cost = 28.77639999999996\n",
            "Iteration 2: Cost = 28.18659999999998\n",
            "Iteration 3: Cost = 27.97389999999997\n",
            "Iteration 4: Cost = 26.24909999999998\n",
            "Iteration 5: Cost = 26.535899999999998\n",
            "Iteration 6: Cost = 28.123399999999975\n",
            "Iteration 7: Cost = 27.642999999999976\n",
            "Iteration 8: Cost = 26.687799999999964\n",
            "Iteration 9: Cost = 27.427099999999975\n",
            "Iteration 10: Cost = 27.336599999999958\n",
            "Iteration 11: Cost = 26.229599999999984\n",
            "Iteration 12: Cost = 26.612399999999994\n",
            "Iteration 13: Cost = 26.251899999999996\n",
            "Iteration 14: Cost = 26.239399999999993\n",
            "Iteration 15: Cost = 27.03709999999997\n",
            "Iteration 16: Cost = 26.092399999999977\n",
            "Iteration 17: Cost = 26.808099999999975\n",
            "Iteration 18: Cost = 26.105199999999986\n",
            "Iteration 19: Cost = 27.02789999999998\n",
            "Iteration 20: Cost = 26.866399999999988\n",
            "Iteration 21: Cost = 26.337199999999967\n",
            "Iteration 22: Cost = 25.363599999999973\n",
            "Iteration 23: Cost = 26.6985\n",
            "Iteration 24: Cost = 26.02109999999996\n",
            "Iteration 25: Cost = 26.991499999999984\n",
            "Iteration 26: Cost = 27.17089999999996\n",
            "Iteration 27: Cost = 27.327699999999968\n",
            "Iteration 28: Cost = 25.652599999999993\n",
            "Iteration 29: Cost = 25.910999999999987\n",
            "Iteration 30: Cost = 25.70589999999999\n",
            "Iteration 31: Cost = 26.51239999999997\n",
            "Iteration 32: Cost = 26.858499999999964\n",
            "Iteration 33: Cost = 26.521499999999975\n",
            "Iteration 34: Cost = 25.975099999999994\n",
            "Iteration 35: Cost = 26.6726\n",
            "Iteration 36: Cost = 25.806599999999978\n",
            "Iteration 37: Cost = 26.63839999999999\n",
            "Iteration 38: Cost = 25.728299999999994\n",
            "Iteration 39: Cost = 26.420799999999975\n",
            "Iteration 40: Cost = 25.831699999999977\n",
            "Iteration 41: Cost = 26.298899999999982\n",
            "Iteration 42: Cost = 25.6984\n",
            "Iteration 43: Cost = 25.706999999999997\n",
            "Iteration 44: Cost = 25.705399999999987\n",
            "Iteration 45: Cost = 26.11979999999997\n",
            "Iteration 46: Cost = 26.006300000000003\n",
            "Iteration 47: Cost = 25.408199999999987\n",
            "Iteration 48: Cost = 26.10359999999997\n",
            "Iteration 49: Cost = 26.46329999999995\n",
            "Iteration 50: Cost = 26.75319999999998\n",
            "Iteration 51: Cost = 26.277399999999993\n",
            "Iteration 52: Cost = 26.43849999999997\n",
            "Iteration 53: Cost = 26.01719999999999\n",
            "Iteration 54: Cost = 25.779699999999952\n",
            "Iteration 55: Cost = 26.087799999999984\n",
            "Iteration 56: Cost = 26.35809999999998\n",
            "Iteration 57: Cost = 26.458399999999983\n",
            "Iteration 58: Cost = 26.248099999999987\n",
            "Iteration 59: Cost = 26.452299999999987\n",
            "Iteration 60: Cost = 25.674599999999987\n",
            "Iteration 61: Cost = 26.047499999999978\n",
            "Iteration 62: Cost = 26.004999999999978\n",
            "Iteration 63: Cost = 25.404799999999973\n",
            "Iteration 64: Cost = 25.472099999999976\n",
            "Iteration 65: Cost = 25.941299999999973\n",
            "Iteration 66: Cost = 25.531999999999993\n",
            "Iteration 67: Cost = 25.70019999999999\n",
            "Iteration 68: Cost = 25.511599999999994\n",
            "Iteration 69: Cost = 25.995299999999997\n",
            "Iteration 70: Cost = 26.055999999999994\n",
            "Iteration 71: Cost = 26.33019999999997\n",
            "Iteration 72: Cost = 26.44869999999998\n",
            "Iteration 73: Cost = 26.333799999999986\n",
            "Iteration 74: Cost = 25.585599999999978\n",
            "Iteration 75: Cost = 25.785699999999984\n",
            "Iteration 76: Cost = 26.06839999999997\n",
            "Iteration 77: Cost = 25.724599999999988\n",
            "Iteration 78: Cost = 25.979599999999998\n",
            "Iteration 79: Cost = 26.450999999999986\n",
            "Iteration 80: Cost = 25.59359999999999\n",
            "Iteration 81: Cost = 26.253999999999994\n",
            "Iteration 82: Cost = 26.179399999999994\n",
            "Iteration 83: Cost = 26.27019999999998\n",
            "Iteration 84: Cost = 26.209799999999984\n",
            "Iteration 85: Cost = 25.467999999999986\n",
            "Iteration 86: Cost = 25.46509999999996\n",
            "Iteration 87: Cost = 25.460399999999986\n",
            "Iteration 88: Cost = 26.232799999999976\n",
            "Iteration 89: Cost = 25.720199999999988\n",
            "Iteration 90: Cost = 25.707899999999963\n",
            "Iteration 91: Cost = 25.40649999999999\n",
            "Iteration 92: Cost = 25.761799999999972\n",
            "Iteration 93: Cost = 26.03579999999999\n",
            "Iteration 94: Cost = 26.137099999999975\n",
            "Iteration 95: Cost = 24.7256\n",
            "Iteration 96: Cost = 25.778699999999997\n",
            "Iteration 97: Cost = 26.39789999999998\n",
            "Iteration 98: Cost = 26.21149999999999\n",
            "Iteration 99: Cost = 26.488399999999967\n",
            "Iteration 100: Cost = 26.727899999999945\n",
            "Iteration 101: Cost = 25.169799999999974\n",
            "Iteration 102: Cost = 25.0694\n",
            "Iteration 103: Cost = 25.561699999999995\n",
            "Iteration 104: Cost = 25.623399999999982\n",
            "Iteration 105: Cost = 25.88619999999998\n",
            "Iteration 106: Cost = 26.377100000000002\n",
            "Iteration 107: Cost = 26.110499999999984\n",
            "Iteration 108: Cost = 25.955799999999993\n",
            "Iteration 109: Cost = 26.100599999999993\n",
            "Iteration 110: Cost = 25.721599999999988\n",
            "Iteration 111: Cost = 25.22299999999997\n",
            "Iteration 112: Cost = 26.09729999999996\n",
            "Iteration 113: Cost = 25.726799999999994\n",
            "Iteration 114: Cost = 26.463399999999993\n",
            "Iteration 115: Cost = 25.304899999999996\n",
            "Iteration 116: Cost = 25.75449999999998\n",
            "Iteration 117: Cost = 25.710399999999986\n",
            "Iteration 118: Cost = 25.59759999999999\n",
            "Iteration 119: Cost = 26.41679999999997\n",
            "Iteration 120: Cost = 26.333799999999986\n",
            "Iteration 121: Cost = 26.031199999999977\n",
            "Iteration 122: Cost = 25.494499999999977\n",
            "Iteration 123: Cost = 25.400799999999997\n",
            "Iteration 124: Cost = 25.926899999999975\n",
            "Iteration 125: Cost = 26.37469999999998\n",
            "Iteration 126: Cost = 25.869799999999962\n",
            "Iteration 127: Cost = 25.343299999999985\n",
            "Iteration 128: Cost = 25.709499999999988\n",
            "Iteration 129: Cost = 25.256999999999998\n",
            "Iteration 130: Cost = 25.800699999999996\n",
            "Iteration 131: Cost = 25.816699999999972\n",
            "Iteration 132: Cost = 25.63939999999998\n",
            "Iteration 133: Cost = 25.900799999999997\n",
            "Iteration 134: Cost = 26.238199999999985\n",
            "Iteration 135: Cost = 26.20219999999999\n",
            "Iteration 136: Cost = 26.307699999999972\n",
            "Iteration 137: Cost = 26.673499999999994\n",
            "Iteration 138: Cost = 26.055599999999984\n",
            "Iteration 139: Cost = 25.706499999999984\n",
            "Iteration 140: Cost = 25.86329999999999\n",
            "Iteration 141: Cost = 25.870299999999975\n",
            "Iteration 142: Cost = 26.422799999999963\n",
            "Iteration 143: Cost = 25.673199999999984\n",
            "Iteration 144: Cost = 25.433099999999992\n",
            "Iteration 145: Cost = 26.418499999999973\n",
            "Iteration 146: Cost = 25.749799999999983\n",
            "Iteration 147: Cost = 25.78849999999998\n",
            "Iteration 148: Cost = 25.48199999999996\n",
            "Iteration 149: Cost = 25.266399999999994\n",
            "Iteration 150: Cost = 26.109799999999964\n",
            "Iteration 151: Cost = 25.20009999999999\n",
            "Iteration 152: Cost = 25.71089999999997\n",
            "Iteration 153: Cost = 26.502899999999986\n",
            "Iteration 154: Cost = 25.31269999999998\n",
            "Iteration 155: Cost = 25.601499999999984\n",
            "Iteration 156: Cost = 25.862399999999973\n",
            "Iteration 157: Cost = 25.66549999999998\n",
            "Iteration 158: Cost = 25.889399999999966\n",
            "Iteration 159: Cost = 25.83639999999998\n",
            "Iteration 160: Cost = 25.900599999999983\n",
            "Iteration 161: Cost = 25.331299999999978\n",
            "Iteration 162: Cost = 25.802799999999987\n",
            "Iteration 163: Cost = 26.144299999999987\n",
            "Iteration 164: Cost = 25.787699999999987\n",
            "Iteration 165: Cost = 25.48699999999997\n",
            "Iteration 166: Cost = 25.2988\n",
            "Iteration 167: Cost = 25.735399999999984\n",
            "Iteration 168: Cost = 25.637299999999993\n",
            "Iteration 169: Cost = 25.867399999999993\n",
            "Iteration 170: Cost = 25.70679999999998\n",
            "Iteration 171: Cost = 26.305099999999985\n",
            "Iteration 172: Cost = 25.558499999999988\n",
            "Iteration 173: Cost = 26.286999999999995\n",
            "Iteration 174: Cost = 25.88389999999998\n",
            "Iteration 175: Cost = 25.239899999999984\n",
            "Iteration 176: Cost = 25.644999999999982\n",
            "Iteration 177: Cost = 25.837499999999988\n",
            "Iteration 178: Cost = 25.389999999999976\n",
            "Iteration 179: Cost = 25.425799999999974\n",
            "Iteration 180: Cost = 25.396099999999993\n",
            "Iteration 181: Cost = 25.584599999999988\n",
            "Iteration 182: Cost = 25.505299999999995\n",
            "Iteration 183: Cost = 25.230999999999987\n",
            "Iteration 184: Cost = 26.267799999999994\n",
            "Iteration 185: Cost = 25.8041\n",
            "Iteration 186: Cost = 25.5419\n",
            "Iteration 187: Cost = 25.649299999999986\n",
            "Iteration 188: Cost = 25.695299999999985\n",
            "Iteration 189: Cost = 25.717599999999983\n",
            "Iteration 190: Cost = 25.514499999999977\n",
            "Iteration 191: Cost = 26.58689999999996\n",
            "Iteration 192: Cost = 25.901099999999975\n",
            "Iteration 193: Cost = 25.984999999999975\n",
            "Iteration 194: Cost = 25.342299999999973\n",
            "Iteration 195: Cost = 25.714099999999988\n",
            "Iteration 196: Cost = 25.924499999999977\n",
            "Iteration 197: Cost = 26.16759999999998\n",
            "Iteration 198: Cost = 26.051499999999983\n",
            "Iteration 199: Cost = 25.74429999999998\n",
            "Iteration 200: Cost = 25.480199999999982\n",
            "Optimal Parameters: [1.04795125 0.83521494]\n",
            "Optimal Cost: 25.480199999999982\n"
          ]
        }
      ]
    },
    {
      "cell_type": "code",
      "source": [
        "# 使用最优参数运行电路\n",
        "optimal_param_values = {gamma: [params[0]], beta: [params[1]]}\n",
        "job = execute(qc, simulator, shots=1000, parameter_binds=[optimal_param_values])\n",
        "result = job.result()\n",
        "optimal_counts = result.get_counts(qc)\n"
      ],
      "metadata": {
        "id": "mzAgjc11SNds"
      },
      "execution_count": null,
      "outputs": []
    },
    {
      "cell_type": "code",
      "source": [
        "print(calculate_cost(optimal_counts))"
      ],
      "metadata": {
        "colab": {
          "base_uri": "https://localhost:8080/"
        },
        "id": "X3kxgojAT9DO",
        "outputId": "d674beba-ad35-465c-d2e7-a60ab0b672ed"
      },
      "execution_count": null,
      "outputs": [
        {
          "output_type": "stream",
          "name": "stdout",
          "text": [
            "26.373999999999985\n"
          ]
        }
      ]
    },
    {
      "cell_type": "code",
      "source": [
        "# 对测量结果进行排序\n",
        "sorted_counts = sorted(optimal_counts.items(), key=lambda x: x[1], reverse=True)\n",
        "\n",
        "# 打印排序后的结果\n",
        "for bitstring, count in sorted_counts[:10]:\n",
        "    print(f\"Bitstring: {bitstring}, Count: {count}, Cost: {calculate_cost({bitstring:count})}\")\n",
        "\n"
      ],
      "metadata": {
        "colab": {
          "base_uri": "https://localhost:8080/"
        },
        "id": "tU8peuvNUCp2",
        "outputId": "fa1c9a2d-58b3-4e2a-e54c-e2c078d7249c"
      },
      "execution_count": null,
      "outputs": [
        {
          "output_type": "stream",
          "name": "stdout",
          "text": [
            "Bitstring: 1111000101, Count: 128, Cost: 18.1\n",
            "Bitstring: 1111000111, Count: 77, Cost: 9.100000000000001\n",
            "Bitstring: 1111000000, Count: 64, Cost: 26.1\n",
            "Bitstring: 1110000111, Count: 33, Cost: 6.1000000000000005\n",
            "Bitstring: 0111000111, Count: 32, Cost: 24.1\n",
            "Bitstring: 1011000111, Count: 29, Cost: 35.0\n",
            "Bitstring: 1101000111, Count: 27, Cost: 18.099999999999998\n",
            "Bitstring: 1111000010, Count: 21, Cost: 17.1\n",
            "Bitstring: 1001000101, Count: 21, Cost: 44.0\n",
            "Bitstring: 1110000010, Count: 20, Cost: 24.1\n"
          ]
        }
      ]
    },
    {
      "cell_type": "code",
      "source": [
        "def validate_condition(count):\n",
        "  bitstring = count[0]\n",
        "  facility_status = bitstring[:num_facilities]  # 前两个比特表示设施状态\n",
        "  city_connections = bitstring[num_facilities:]\n",
        "  if facility_status.count('1') == 0:\n",
        "    return False\n",
        "  for i in range(num_facilities):\n",
        "      for j in range(num_cities):\n",
        "        if facility_status[i] == '0' and city_connections[i * num_cities + j] == '1':\n",
        "          return False\n",
        "  for j in range(num_cities):\n",
        "    res = 0\n",
        "    for i in range(num_facilities):\n",
        "      if facility_status[i] == '1':\n",
        "        res += int(city_connections[i * num_cities + j])\n",
        "    if res < 1:\n",
        "      return False\n",
        "  return True"
      ],
      "metadata": {
        "id": "IVrtl5KX9aUy"
      },
      "execution_count": null,
      "outputs": []
    },
    {
      "cell_type": "code",
      "source": [
        "def finalize_condition(bitstring):\n",
        "  facility_status = bitstring[:num_facilities]  # 前两个比特表示设施状态\n",
        "  city_connections = bitstring[num_facilities:]\n",
        "  res = ['0' for i in range(num_facilities+num_facilities*num_cities)]\n",
        "  for i in range(num_facilities):\n",
        "    if facility_status[i] == '1':\n",
        "      res[i] = '1'\n",
        "      for j in range(num_cities):\n",
        "        if city_connections[i * num_cities + j] == '1':\n",
        "          res[num_facilities + j] = '1'\n",
        "  for j in range(num_cities):\n",
        "    min = -1\n",
        "    min_index = 0\n",
        "    for i in range(num_facilities):\n",
        "      if city_connections[i * num_cities + j] == '1':\n",
        "        if connect_costs[i][j] < min or min == -1:\n",
        "          min = connect_costs[i][j]\n",
        "          min_index = i\n",
        "    for i in range(num_facilities):\n",
        "      if i == min_index:\n",
        "        res[num_facilities+i * num_cities + j] = '1'\n",
        "      else:\n",
        "        res[num_facilities+i * num_cities + j] = '0'\n",
        "\n",
        "  return ''.join(res)\n"
      ],
      "metadata": {
        "id": "D4ZrYg2P_DXV"
      },
      "execution_count": null,
      "outputs": []
    },
    {
      "cell_type": "code",
      "source": [
        "validated = filter(validate_condition, sorted_counts)\n",
        "validated_list = list(validated)\n",
        "print(validated_list)"
      ],
      "metadata": {
        "colab": {
          "base_uri": "https://localhost:8080/"
        },
        "id": "_18fQrMl-38D",
        "outputId": "3e6d7fe8-63e0-40e3-9ed6-776d20238fc9"
      },
      "execution_count": null,
      "outputs": [
        {
          "output_type": "stream",
          "name": "stdout",
          "text": [
            "[('1111000111', 77), ('1110000111', 33), ('1111100101', 11), ('1111100111', 5), ('1111010111', 4), ('1110001111', 3), ('1111001111', 3), ('1111110000', 2), ('1110010111', 2), ('1111010010', 2), ('1111100001', 1), ('1111000011', 1)]\n"
          ]
        }
      ]
    },
    {
      "cell_type": "code",
      "source": [
        "for i in validated_list:\n",
        "  final = finalize_condition(i[0])\n",
        "  print(f\"Bitstring: {final}, Count: {i[1]}, Cost: {calculate_cost({final:i[1]})}\")"
      ],
      "metadata": {
        "colab": {
          "base_uri": "https://localhost:8080/"
        },
        "id": "xAfhvw7O4qik",
        "outputId": "df108d44-c70f-498c-f382-531e1a2c5d48"
      },
      "execution_count": null,
      "outputs": [
        {
          "output_type": "stream",
          "name": "stdout",
          "text": [
            "Bitstring: 1110000111, Count: 77, Cost: 6.1\n",
            "Bitstring: 1110000111, Count: 33, Cost: 6.1000000000000005\n",
            "Bitstring: 1110100101, Count: 11, Cost: 8.1\n",
            "Bitstring: 1110000111, Count: 5, Cost: 6.1\n",
            "Bitstring: 1110000111, Count: 4, Cost: 6.1\n",
            "Bitstring: 1110000111, Count: 3, Cost: 6.1000000000000005\n",
            "Bitstring: 1110000111, Count: 3, Cost: 6.1000000000000005\n",
            "Bitstring: 1111110000, Count: 2, Cost: 12.1\n",
            "Bitstring: 1110000111, Count: 2, Cost: 6.1\n",
            "Bitstring: 1111010010, Count: 2, Cost: 10.1\n",
            "Bitstring: 1111100001, Count: 1, Cost: 10.1\n",
            "Bitstring: 1111000011, Count: 1, Cost: 8.1\n"
          ]
        }
      ]
    },
    {
      "cell_type": "code",
      "source": [
        "print(validate_condition((\"0100001111\",1000)))"
      ],
      "metadata": {
        "colab": {
          "base_uri": "https://localhost:8080/"
        },
        "id": "CSfH8GmHAXyN",
        "outputId": "636ad996-6d5c-40f2-c5ed-5e3cdd9311c3"
      },
      "execution_count": null,
      "outputs": [
        {
          "output_type": "stream",
          "name": "stdout",
          "text": [
            "True\n"
          ]
        }
      ]
    }
  ]
}